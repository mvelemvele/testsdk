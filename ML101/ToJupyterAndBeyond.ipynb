{
  "cells": [
    {
      "cell_type": "markdown",
      "metadata": {
        "id": "134Teft6gIcO"
      },
      "source": [
        "# Welcome to Jupyter!\n",
        "\n",
        "Good job making it this far into the solar system.\n",
        "\n",
        "Google Colab is a free Jupyter notebook that runs in the browser via your Google account. If you want some additional resources on Colab, you can find them here:\n",
        "\n",
        "- [Welcome To Colaboratory - Colaboratory](https://colab.research.google.com/notebooks/intro.ipynb#scrollTo=5fCEDCU_qrC0)\n",
        "- [Overview of Colaboratory Features - Colaboratory](https://colab.research.google.com/notebooks/basic_features_overview.ipynb)\n",
        "\n",
        "## The Building Blocks\n",
        "Jupyter notebooks are made of two chunks of content, called 'cells' in Colab.\n",
        "\n",
        "- Code cells, written in Python\n",
        "- Cells of **markdown**, a language used for rendering text that can be learned extremely quickly\n",
        "\n",
        "Being able to interweave code and rich text allows ML programmers to communicate about their code in an expressive, effective way.\n",
        "\n",
        "If possible, it's a good idea to open your Quantic lesson on a separate monitor, or split your screen vertically so you can interact with both interfaces at the same time. We'll be switching back and forth throughout this lesson. Check back in on the Quantic interface for now!"
      ]
    },
    {
      "cell_type": "markdown",
      "metadata": {
        "id": "1Ez_azW_6C2-"
      },
      "source": [
        "# Python Code Cells"
      ]
    },
    {
      "cell_type": "code",
      "source": [
        "class LinearRegression:\n",
        "    def __init__(self, learning_rate, epochs, w=0, b=0):\n",
        "        # Hyperparameters (passed during initialization)\n",
        "        self.learning_rate = learning_rate\n",
        "        self.epochs = epochs\n",
        "\n",
        "        # Model parameters (initialized to zero)\n",
        "        self.w = w\n",
        "        self.b = b\n"
      ],
      "metadata": {
        "id": "XCJcXJ5_LeJ5"
      },
      "execution_count": null,
      "outputs": []
    },
    {
      "cell_type": "code",
      "execution_count": null,
      "metadata": {
        "id": "SLR9dFHlzMlB"
      },
      "outputs": [],
      "source": [
        "# Try holding Ctrl/Cmd + Enter while your cursor's inside the cell\n",
        "print(\"Beep boop! Isn't that neat?\")"
      ]
    },
    {
      "cell_type": "code",
      "execution_count": null,
      "metadata": {
        "id": "tYw1lp0wAY-4"
      },
      "outputs": [],
      "source": [
        "# Try playing the cell below *before* playing this one\n",
        "your_name = \"Joe\" # put your name here!"
      ]
    },
    {
      "cell_type": "code",
      "execution_count": null,
      "metadata": {
        "id": "cWaB7B8D5DhQ"
      },
      "outputs": [],
      "source": [
        "print(\"Hey there,\", your_name)"
      ]
    },
    {
      "cell_type": "markdown",
      "metadata": {
        "id": "SPnP-h1CAg3x"
      },
      "source": [
        "# NumPy\n"
      ]
    },
    {
      "cell_type": "code",
      "execution_count": null,
      "metadata": {
        "id": "YZPOQpua15TZ"
      },
      "outputs": [],
      "source": [
        "# programmer convention is to abbreviate numpy as np when importing\n",
        "import numpy as # !fill this in!\n",
        "\n",
        "# NumPy arrays are Python lists with superpowers\n",
        "# create them by passing a normal list to the numpy method like so:\n",
        "# numpy_array = np.array(pylist)\n",
        "pylist = [1,2,3,4]\n",
        "numpy_array = # !create a NumPy array with pylist!\n",
        "print(f\"A Python list looks like: \\n{pylist}\\n\")\n",
        "print(f\"A NumPy array looks like: \\n{numpy_array}\\n\")\n",
        "\n",
        "# if we have more than one feature, our array becomes two dimensional\n",
        "bigger_numpy_array = np.array([[1,5],[2,6],[3,7], [4,8]])\n",
        "print(f\"A two dimensional array looks like: \\n{bigger_numpy_array}\\n\")\n",
        "print(f\"Dimensions in numpy_array: \\n{numpy_array.ndim}\\n Dimensions in bigger_numpy_array: \\n{bigger_numpy_array.ndim}\\n\")\n",
        "print(f\"Shape of numpy_array: \\n{numpy_array.shape}\\nShape of bigger_numpy_array: \\n{bigger_numpy_array.shape}\\n\")"
      ]
    },
    {
      "cell_type": "code",
      "execution_count": null,
      "metadata": {
        "id": "8-y0tcXZCXEd"
      },
      "outputs": [],
      "source": [
        "numpy_array = np.array([1,2,3,4])\n",
        "# you can access an item in a NumPy array via its index, seen below\n",
        "print(numpy_array[0], numpy_array)\n",
        "numpy_array[0] = 2\n",
        "print(numpy_array[0], numpy_array)\n",
        "# fill in the following line to change the third item to 8\n",
        "# (remember the list is zero-indexed)\n",
        "numpy_array[] =\n",
        "print(numpy_array)"
      ]
    },
    {
      "cell_type": "code",
      "execution_count": null,
      "metadata": {
        "id": "Y7l6YyeaDP--"
      },
      "outputs": [],
      "source": [
        "numpy_array = np.array([1,2,3,4])\n",
        "second_np_array = np.array([2,4,6,8])\n",
        "\n",
        "# increase each item in the array by a single number\n",
        "array_addition = numpy_array + 5\n",
        "print(array_addition)\n",
        "\n",
        "# multiply each item in the array by a single number\n",
        "array_product = numpy_array * 5\n",
        "print(array_product)\n",
        "\n",
        "# add two arrays with each other\n",
        "added = numpy_array + second_np_array\n",
        "print(added)\n",
        "\n",
        "# and multiply arrays with each other\n",
        "product = numpy_array * second_np_array\n",
        "print(product)\n",
        "\n",
        "# look at the output for array-on-array operations,\n",
        "# ensure you understand how they work!\n",
        "\n",
        "# sum adds each item in the array into a single sum\n",
        "print(numpy_array.sum())\n",
        "\n",
        "# the size attribute tells us how many items are in our array\n",
        "# this will be useful to find m, the number of training examples\n",
        "print(numpy_array.size)"
      ]
    },
    {
      "cell_type": "markdown",
      "metadata": {
        "id": "LjIcH8DdEdUh"
      },
      "source": [
        "## The Dot Product\n",
        "\n",
        "One important bit of math we've got to cover is the *dot product*.\n",
        "\n",
        "Corresponding elements of each array are multiplied, and these products are added together. The dot product is used in many places in ML to combine two different arrays into one.\n",
        "\n",
        "We'll cover the dot product in much greater detail during the introduction to linear algebra course later in the concentration."
      ]
    },
    {
      "cell_type": "code",
      "execution_count": null,
      "metadata": {
        "id": "QlNiX49LHUr_"
      },
      "outputs": [],
      "source": [
        "a1 = np.array([1,2,3])\n",
        "a2 = np.array([2,3,4])\n",
        "# first we'll do it by hand\n",
        "product = a1 * a2\n",
        "dot_product = product.sum()\n",
        "print(dot_product)\n",
        "# there are two fast and easy ways to do this with numpy\n",
        "# with the inbuilt function:\n",
        "print(np.dot(a1,a2))\n",
        "# or with the @ operator:\n",
        "print(a1 @ a2)"
      ]
    },
    {
      "cell_type": "markdown",
      "metadata": {
        "id": "YqDDT3x9l3S9"
      },
      "source": [
        "# MatPlotLib"
      ]
    },
    {
      "cell_type": "markdown",
      "metadata": {
        "id": "yMQc1JzTL_HH"
      },
      "source": [
        "Our next library, MatPlotLib, is simpler. We'll use Pyplot, Matplotlib's set of graphing functions, to graph our data."
      ]
    },
    {
      "cell_type": "code",
      "execution_count": null,
      "metadata": {
        "id": "343lHfsGl5G6"
      },
      "outputs": [],
      "source": [
        "import matplotlib.pyplot as plt\n",
        "\n",
        "# our first example is a scatter plot\n",
        "# we need coordinates for x and y data\n",
        "x_data = np.array([1,4,2,3,5,9,7])\n",
        "y_data = np.array([2,1,4,7,3,4,8])\n",
        "plt.scatter(x_data,y_data)"
      ]
    },
    {
      "cell_type": "code",
      "execution_count": null,
      "metadata": {
        "id": "Sq_KCkznP729"
      },
      "outputs": [],
      "source": [
        "# to graph a line instead of a scatter, use plot\n",
        "plt.plot(x_data,y_data)"
      ]
    },
    {
      "cell_type": "markdown",
      "metadata": {
        "id": "JomP42ANQP7M"
      },
      "source": [
        "We can also plot equations. For this example, we'll generate some values for $x$ using the NumPy function `np.linspace()`. The function takes the start, stop, and number of values as arguments and returns an array with numbers spaced out evenly between the start and stop values. (Unlike similar functions in Python, the 'stop' argument of `np.linspace()` is inclusive. In other words, `np.linspace()` will stop *after* it outputs the stop value.) To get our $y$-values, we'll perform math operations on those $x$-values. The `plt.plot` function then creates a graph from those two arrays."
      ]
    },
    {
      "cell_type": "code",
      "execution_count": null,
      "metadata": {
        "id": "gyspD67vQ5Yo"
      },
      "outputs": [],
      "source": [
        "x_data = np.linspace(1,10,10) # from 1-10, give us 10 numbers\n",
        "plt.plot(x_data, 1.5 * x_data + 5) # what's the function?"
      ]
    },
    {
      "cell_type": "markdown",
      "metadata": {
        "id": "CHy1kI9VcF3R"
      },
      "source": [
        "Finally, let's learn how to label graphs. Thoughtfully documenting your work enables others to quickly comprehend it and build on it!"
      ]
    },
    {
      "cell_type": "code",
      "execution_count": null,
      "metadata": {
        "id": "T7UNKJJ9cYUV"
      },
      "outputs": [],
      "source": [
        "x_data = np.linspace(1,10,10) # from 1-10, give us 10 numbers\n",
        "plt.plot(x_data, 2*x_data**4, color=\"purple\", label=\"Our Rocket\")\n",
        "plt.plot(x_data, x_data**4, color=\"gold\", label=\"Our Competitor's Rocket\")\n",
        "plt.title(\"Spaceflight to Jupiter\")\n",
        "plt.legend()\n",
        "plt.xlabel(\"Time Since Liftoff (in minutes)\")\n",
        "plt.ylabel(\"Altitude (in miles)\")"
      ]
    },
    {
      "cell_type": "markdown",
      "metadata": {
        "id": "cnDiJqo_qUvR"
      },
      "source": [
        "# Scikit Learn\n",
        "\n",
        "Our final library is the ultra high-powered ML toolkit [SciKit Learn](https://scikit-learn.org/stable/index.html). SciKit is built on top of NumPy and Matplotlib, so it integrates very easily with what we're doing.\n",
        "\n",
        "For our first project in the next lesson, we'll implement the learning algorithms from scratch to best understand them, but SciKit Learn can automate most of the most popular ML tasks.\n",
        "\n",
        "To begin getting acquainted with the library, we'll use the [Train-Test Split](https://scikit-learn.org/stable/modules/generated/sklearn.model_selection.train_test_split.html?highlight=train%20test#sklearn.model_selection.train_test_split) module to separate our data into training and test sets."
      ]
    },
    {
      "cell_type": "code",
      "execution_count": null,
      "metadata": {
        "id": "LWS7GSluqXQf"
      },
      "outputs": [],
      "source": [
        "from sklearn.model_selection import train_test_split\n",
        "\n",
        "all_X = np.array([1,2,3,4,5,6,7,8,9,10])\n",
        "all_y = np.array([1,2,3,4,5,6,7,8,9,10])\n",
        "#random_state is a seed value for replicating results\n",
        "prepared_data = train_test_split(all_X, all_y, test_size=0.3, random_state=3242)\n",
        "# unpack these arrays for easier access\n",
        "X_train, X_test, y_train, y_test = prepared_data\n",
        "print(f\"Features of our training set: {X_train}\")\n",
        "print(f\"Labels of our training set: {y_train}\")\n",
        "print(f\"Features of our test set: {X_test}\")\n",
        "print(f\"Labels of our test set: {y_test}\")"
      ]
    },
    {
      "cell_type": "markdown",
      "metadata": {
        "id": "wi62Hxth8AKK"
      },
      "source": [
        "# Putting It All Together\n",
        "\n",
        "Now we'll put what we've just learned to use and graph a scatter plot of our ML 101 Grade Predictor data. After that's done, we'll be well prepared to fit a linear regression model to it in the next lesson."
      ]
    },
    {
      "cell_type": "code",
      "execution_count": null,
      "metadata": {
        "id": "1g3q1mUomhwC"
      },
      "outputs": [],
      "source": [
        "# turn these two lists into NumPy arrays named X and y, respectively\n",
        "py_X = [10,24,37,51,65,79,88]\n",
        "py_y = [57,66,79,75,90,87,98]\n",
        "\n",
        "# !!CODE HERE!!\n",
        "\n",
        "# use train_test_split to separate the X and y data\n",
        "X_train, X_test, y_train, y_test = # !!CODE HERE!!\n",
        "\n",
        "# create two scatter plots, m1 and m2, that graph training and testing sets\n",
        "# give them different colors and labels\n",
        "m1 = plt.scatter() # !!CODE HERE!!\n",
        "m2 = plt.scatter() # !!CODE HERE!!\n",
        "\n",
        "# title the graph \"ML 101 Grade Predictor\" and show the legend\n",
        "# then label x and y axes \"Minutes studied\" and \"Smartcase grade,\" respectively\n",
        "# !!CODE HERE!!"
      ]
    },
    {
      "cell_type": "markdown",
      "metadata": {
        "id": "IqBfSWL9Xj-3"
      },
      "source": [
        "# Further Practice\n",
        "\n",
        "As we all know, coding skills are developed by actually coding. With that in mind, here are some ways you can take what we've learned today a little further. If anything failed to stick, or you're overwhelmed by anything in the next lesson, feel free to come back here and practice!"
      ]
    },
    {
      "cell_type": "code",
      "execution_count": null,
      "metadata": {
        "id": "ysr7dKFAX9G2"
      },
      "outputs": [],
      "source": [
        "from sklearn import datasets\n",
        "\n",
        "# if you want to play with scikit, you can also make a random regression problem like so:\n",
        "X, y = datasets.make_regression(n_samples=100, n_features=1, noise=20, random_state=4)\n",
        "# try graphing this data instead of our grade predictor data for added practice!\n",
        "\n",
        "# try creating a train_test split for this data\n",
        "\n",
        "# also try coming up with your own values for slope and intercept, such as:\n",
        "w = .5\n",
        "b = 53\n",
        "plt.plot(X, w * X + b)\n",
        "# you can overlay them on top of the scatter plot to start getting a feel for linear regression!"
      ]
    }
  ],
  "metadata": {
    "colab": {
      "name": "To Jupyter... And Beyond!",
      "provenance": []
    },
    "interpreter": {
      "hash": "2be5faf79681da6f2a61fdfdd5405d65d042280f7fba6178067603e3a2925119"
    },
    "kernelspec": {
      "display_name": "Python 3.10.0 64-bit",
      "name": "python3"
    },
    "language_info": {
      "name": "python",
      "version": "3.10.0"
    }
  },
  "nbformat": 4,
  "nbformat_minor": 0
}